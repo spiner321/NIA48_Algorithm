{
 "cells": [
  {
   "cell_type": "code",
   "execution_count": 2,
   "metadata": {},
   "outputs": [
    {
     "name": "stdout",
     "output_type": "stream",
     "text": [
      "Jupyter environment detected. Enabling Open3D WebVisualizer.\n",
      "[Open3D INFO] WebRTC GUI backend enabled.\n",
      "[Open3D INFO] WebRTCWindowSystem: HTTP handshake server disabled.\n"
     ]
    },
    {
     "data": {
      "text/plain": [
       "PointCloud with 231680 points."
      ]
     },
     "execution_count": 2,
     "metadata": {},
     "output_type": "execute_result"
    }
   ],
   "source": [
    "import numpy as np\n",
    "import open3d as o3d\n",
    "\n",
    "# 아래 pcd 파일을 open3d로 읽어줘\n",
    "pcd = '/data/NIA48/raw/train/source/normal/11/A_Clip_00351_11/Lidar/2-048_00351_LR_001.pcd'\n",
    "pcd = o3d.io.read_point_cloud(pcd)\n",
    "\n",
    "pcd\n"
   ]
  },
  {
   "cell_type": "code",
   "execution_count": 5,
   "metadata": {},
   "outputs": [],
   "source": [
    "pcd = np.asarray(pcd.points)"
   ]
  },
  {
   "cell_type": "code",
   "execution_count": 15,
   "metadata": {},
   "outputs": [
    {
     "data": {
      "text/plain": [
       "array([19.182234  , 12.64617036])"
      ]
     },
     "execution_count": 15,
     "metadata": {},
     "output_type": "execute_result"
    }
   ],
   "source": [
    "np.percentile(pcd[:, 2], [100, 99.9])"
   ]
  },
  {
   "cell_type": "code",
   "execution_count": null,
   "metadata": {},
   "outputs": [],
   "source": [
    "                center_left_range = center_pcd_in_dim_inv[(center_pcd_in_dim_inv[:, 1] > center_location[1]) & (center_pcd_in_dim_inv[:, 2] < center_location[2])]\n",
    "                center_right_range = center_pcd_in_dim_inv[(center_pcd_in_dim_inv[:, 1] < center_location[1]) & (center_pcd_in_dim_inv[:, 2] < center_location[2])]"
   ]
  }
 ],
 "metadata": {
  "kernelspec": {
   "display_name": "nia48_310",
   "language": "python",
   "name": "python3"
  },
  "language_info": {
   "codemirror_mode": {
    "name": "ipython",
    "version": 3
   },
   "file_extension": ".py",
   "mimetype": "text/x-python",
   "name": "python",
   "nbconvert_exporter": "python",
   "pygments_lexer": "ipython3",
   "version": "3.10.0"
  },
  "orig_nbformat": 4
 },
 "nbformat": 4,
 "nbformat_minor": 2
}
