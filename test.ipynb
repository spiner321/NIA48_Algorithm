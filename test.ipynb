{
 "cells": [
  {
   "cell_type": "code",
   "execution_count": 2,
   "metadata": {},
   "outputs": [
    {
     "name": "stdout",
     "output_type": "stream",
     "text": [
      "Jupyter environment detected. Enabling Open3D WebVisualizer.\n",
      "[Open3D INFO] WebRTC GUI backend enabled.\n",
      "[Open3D INFO] WebRTCWindowSystem: HTTP handshake server disabled.\n"
     ]
    },
    {
     "data": {
      "text/plain": [
       "PointCloud with 231680 points."
      ]
     },
     "execution_count": 2,
     "metadata": {},
     "output_type": "execute_result"
    }
   ],
   "source": [
    "import numpy as np\n",
    "import open3d as o3d\n",
    "\n",
    "# 아래 pcd 파일을 open3d로 읽어줘\n",
    "pcd = '/data/NIA48/raw/train/source/normal/11/A_Clip_00351_11/Lidar/2-048_00351_LR_001.pcd'\n",
    "pcd = o3d.io.read_point_cloud(pcd)\n",
    "\n",
    "pcd\n"
   ]
  },
  {
   "cell_type": "code",
   "execution_count": 4,
   "metadata": {},
   "outputs": [
    {
     "name": "stdout",
     "output_type": "stream",
     "text": [
      "Jupyter environment detected. Enabling Open3D WebVisualizer.\n",
      "[Open3D INFO] WebRTC GUI backend enabled.\n",
      "[Open3D INFO] WebRTCWindowSystem: HTTP handshake server disabled.\n"
     ]
    },
    {
     "name": "stderr",
     "output_type": "stream",
     "text": [
      "\n",
      "KeyboardInterrupt\n",
      "\n"
     ]
    }
   ],
   "source": [
    "import pandas as pd\n",
    "import numpy as np\n",
    "import open3d as o3d\n",
    "\n",
    "t_df = pd.read_csv('/data/kimgh/NIA48_Algorithm/tunnel_bf_renew_filtered_1.csv', index_col=0)\n",
    "t_df['category'] = 'TUNNEL'\n",
    "t_df = t_df[['clipname_y', 'best_frame', 'id_y', 'category']]\n",
    "t_df.columns = ['clipname', 'bestframe', 'id', 'category']\n",
    "# t_df[['clipname_y', 'best_frame', 'id_y', 'category_x']].drop_duplicates().reset_index(drop=True)\n",
    "\n",
    "bf_df = pd.read_csv('/data/kimgh/NIA48_Algorithm/bestframe_roadsign_tunnel.csv', index_col=0)\n",
    "bf_df = bf_df.sort_values(by=['category', 'clipname']).reset_index(drop=True)\n",
    "bf_df = bf_df[['clipname', 'bestframe', 'id', 'category']]\n",
    "r_df = bf_df.loc[bf_df['category'] == 'ROAD_SIGN']\n",
    "\n",
    "weather = pd.read_csv('/data/kimgh/NIA48_Algorithm/weather_static.csv', index_col=0)\n",
    "weather = weather[['clipname', 'weather_y']]\n",
    "\n",
    "df = pd.concat([r_df, t_df])\n",
    "df = pd.merge(df, weather, how='outer', on='clipname').dropna().reset_index(drop=True)\n",
    "df[['bestframe', 'id']] = df[['bestframe', 'id']].astype(int)\n",
    "df = df.loc[df['weather_y'] != 'Rain_L'].sort_values(by=['clipname', 'category']).reset_index(drop=True)\n",
    "df[['clipname', 'bestframe', 'id', 'category']].to_csv('/data/kimgh/NIA48_Algorithm/bestframe.csv')"
   ]
  },
  {
   "cell_type": "code",
   "execution_count": 27,
   "metadata": {},
   "outputs": [],
   "source": [
    "df = pd.read_csv('/data/kimgh/NIA48_Algorithm/bestframe.csv', index_col=0)\n",
    "r_df = df.loc[df['category'] == 'ROAD_SIGN'].reset_index(drop=True)\n",
    "\n",
    "t_df = pd.read_csv('/data/kimgh/NIA48_Algorithm/tunnel_bf_by_pcd.csv', index_col=0)\n",
    "t_df['category'] = 'TUNNEL'\n",
    "t_df = t_df.drop(columns=['lpcd'])\n",
    "t_df.columns = ['clipname', 'id', 'bestframe', 'category']\n",
    "t_df = t_df[['clipname', 'bestframe', 'id', 'category']]\n",
    "\n",
    "weather = pd.read_csv('/data/kimgh/NIA48_Algorithm/weather_static.csv', index_col=0)\n",
    "weather = weather[['clipname', 'weather_y']]\n",
    "\n",
    "df = pd.concat([r_df, t_df])\n",
    "df = pd.merge(df, weather, how='outer', on='clipname').dropna().reset_index(drop=True)\n",
    "df[['bestframe', 'id']] = df[['bestframe', 'id']].astype(int)\n",
    "df = df.loc[df['weather_y'] != 'Rain_L'].sort_values(by=['clipname', 'category']).reset_index(drop=True)\n",
    "df[['clipname', 'bestframe', 'id', 'category']].to_csv('/data/kimgh/NIA48_Algorithm/bestframe_copy.csv')"
   ]
  },
  {
   "cell_type": "code",
   "execution_count": 26,
   "metadata": {},
   "outputs": [
    {
     "data": {
      "text/html": [
       "<div>\n",
       "<style scoped>\n",
       "    .dataframe tbody tr th:only-of-type {\n",
       "        vertical-align: middle;\n",
       "    }\n",
       "\n",
       "    .dataframe tbody tr th {\n",
       "        vertical-align: top;\n",
       "    }\n",
       "\n",
       "    .dataframe thead th {\n",
       "        text-align: right;\n",
       "    }\n",
       "</style>\n",
       "<table border=\"1\" class=\"dataframe\">\n",
       "  <thead>\n",
       "    <tr style=\"text-align: right;\">\n",
       "      <th></th>\n",
       "      <th>clipname</th>\n",
       "      <th>bestframe</th>\n",
       "      <th>id</th>\n",
       "      <th>category</th>\n",
       "      <th>weather_y</th>\n",
       "    </tr>\n",
       "  </thead>\n",
       "  <tbody>\n",
       "    <tr>\n",
       "      <th>0</th>\n",
       "      <td>A_Clip_00039_11</td>\n",
       "      <td>81</td>\n",
       "      <td>2</td>\n",
       "      <td>ROAD_SIGN</td>\n",
       "      <td>Fog</td>\n",
       "    </tr>\n",
       "    <tr>\n",
       "      <th>1</th>\n",
       "      <td>A_Clip_00042_11</td>\n",
       "      <td>62</td>\n",
       "      <td>2</td>\n",
       "      <td>ROAD_SIGN</td>\n",
       "      <td>Fog</td>\n",
       "    </tr>\n",
       "    <tr>\n",
       "      <th>2</th>\n",
       "      <td>A_Clip_00042_11</td>\n",
       "      <td>87</td>\n",
       "      <td>3</td>\n",
       "      <td>ROAD_SIGN</td>\n",
       "      <td>Fog</td>\n",
       "    </tr>\n",
       "    <tr>\n",
       "      <th>3</th>\n",
       "      <td>A_Clip_00042_11</td>\n",
       "      <td>11</td>\n",
       "      <td>4</td>\n",
       "      <td>TUNNEL</td>\n",
       "      <td>Fog</td>\n",
       "    </tr>\n",
       "    <tr>\n",
       "      <th>4</th>\n",
       "      <td>A_Clip_00046_14</td>\n",
       "      <td>43</td>\n",
       "      <td>8</td>\n",
       "      <td>ROAD_SIGN</td>\n",
       "      <td>Fog</td>\n",
       "    </tr>\n",
       "    <tr>\n",
       "      <th>...</th>\n",
       "      <td>...</td>\n",
       "      <td>...</td>\n",
       "      <td>...</td>\n",
       "      <td>...</td>\n",
       "      <td>...</td>\n",
       "    </tr>\n",
       "    <tr>\n",
       "      <th>17557</th>\n",
       "      <td>S_Clip_58918_15</td>\n",
       "      <td>88</td>\n",
       "      <td>15</td>\n",
       "      <td>ROAD_SIGN</td>\n",
       "      <td>Night</td>\n",
       "    </tr>\n",
       "    <tr>\n",
       "      <th>17558</th>\n",
       "      <td>S_Clip_58918_15</td>\n",
       "      <td>99</td>\n",
       "      <td>18</td>\n",
       "      <td>ROAD_SIGN</td>\n",
       "      <td>Night</td>\n",
       "    </tr>\n",
       "    <tr>\n",
       "      <th>17559</th>\n",
       "      <td>S_Clip_58926_15</td>\n",
       "      <td>79</td>\n",
       "      <td>26</td>\n",
       "      <td>ROAD_SIGN</td>\n",
       "      <td>Night</td>\n",
       "    </tr>\n",
       "    <tr>\n",
       "      <th>17560</th>\n",
       "      <td>S_Clip_58927_15</td>\n",
       "      <td>18</td>\n",
       "      <td>14</td>\n",
       "      <td>ROAD_SIGN</td>\n",
       "      <td>Night</td>\n",
       "    </tr>\n",
       "    <tr>\n",
       "      <th>17561</th>\n",
       "      <td>S_Clip_58932_15</td>\n",
       "      <td>72</td>\n",
       "      <td>1</td>\n",
       "      <td>ROAD_SIGN</td>\n",
       "      <td>Night</td>\n",
       "    </tr>\n",
       "  </tbody>\n",
       "</table>\n",
       "<p>17562 rows × 5 columns</p>\n",
       "</div>"
      ],
      "text/plain": [
       "              clipname  bestframe  id   category weather_y\n",
       "0      A_Clip_00039_11         81   2  ROAD_SIGN       Fog\n",
       "1      A_Clip_00042_11         62   2  ROAD_SIGN       Fog\n",
       "2      A_Clip_00042_11         87   3  ROAD_SIGN       Fog\n",
       "3      A_Clip_00042_11         11   4     TUNNEL       Fog\n",
       "4      A_Clip_00046_14         43   8  ROAD_SIGN       Fog\n",
       "...                ...        ...  ..        ...       ...\n",
       "17557  S_Clip_58918_15         88  15  ROAD_SIGN     Night\n",
       "17558  S_Clip_58918_15         99  18  ROAD_SIGN     Night\n",
       "17559  S_Clip_58926_15         79  26  ROAD_SIGN     Night\n",
       "17560  S_Clip_58927_15         18  14  ROAD_SIGN     Night\n",
       "17561  S_Clip_58932_15         72   1  ROAD_SIGN     Night\n",
       "\n",
       "[17562 rows x 5 columns]"
      ]
     },
     "execution_count": 26,
     "metadata": {},
     "output_type": "execute_result"
    }
   ],
   "source": [
    "df"
   ]
  },
  {
   "cell_type": "code",
   "execution_count": 3,
   "metadata": {},
   "outputs": [
    {
     "name": "stdout",
     "output_type": "stream",
     "text": [
      "a\n",
      "b\n"
     ]
    }
   ],
   "source": [
    "\n",
    "try:\n",
    "    a=[1, 2]\n",
    "    a[1]\n",
    "    print('a')\n",
    "\n",
    "except:\n",
    "    pass\n",
    "\n",
    "print('b')"
   ]
  },
  {
   "cell_type": "code",
   "execution_count": null,
   "metadata": {},
   "outputs": [],
   "source": []
  }
 ],
 "metadata": {
  "kernelspec": {
   "display_name": "nia48_310",
   "language": "python",
   "name": "python3"
  },
  "language_info": {
   "codemirror_mode": {
    "name": "ipython",
    "version": 3
   },
   "file_extension": ".py",
   "mimetype": "text/x-python",
   "name": "python",
   "nbconvert_exporter": "python",
   "pygments_lexer": "ipython3",
   "version": "3.10.0"
  },
  "orig_nbformat": 4
 },
 "nbformat": 4,
 "nbformat_minor": 2
}
